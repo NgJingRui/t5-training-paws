{
 "cells": [
  {
   "cell_type": "code",
   "execution_count": null,
   "metadata": {},
   "outputs": [],
   "source": [
    "!mkdir data"
   ]
  },
  {
   "cell_type": "code",
   "execution_count": 1,
   "metadata": {
    "scrolled": true
   },
   "outputs": [
    {
     "name": "stdout",
     "output_type": "stream",
     "text": [
      "--2021-03-21 13:34:07--  http://qim.fs.quoracdn.net/quora_duplicate_questions.tsv\n",
      "Resolving qim.fs.quoracdn.net (qim.fs.quoracdn.net)... 151.101.9.2\n",
      "Connecting to qim.fs.quoracdn.net (qim.fs.quoracdn.net)|151.101.9.2|:80... connected.\n",
      "HTTP request sent, awaiting response... 200 OK\n",
      "Length: 58176133 (55M) [text/tab-separated-values]\n",
      "Saving to: ‘data/quora_duplicate_questions.tsv’\n",
      "\n",
      "quora_duplicate_que 100%[===================>]  55.48M  17.3MB/s    in 3.3s    \n",
      "\n",
      "2021-03-21 13:34:11 (16.6 MB/s) - ‘data/quora_duplicate_questions.tsv’ saved [58176133/58176133]\n",
      "\n"
     ]
    }
   ],
   "source": [
    "!wget http://qim.fs.quoracdn.net/quora_duplicate_questions.tsv -P data"
   ]
  },
  {
   "cell_type": "code",
   "execution_count": 32,
   "metadata": {},
   "outputs": [],
   "source": [
    "import warnings\n",
    "\n",
    "import pandas as pd\n",
    "\n",
    "\n",
    "def load_data(\n",
    "    file_path, input_text_column, target_text_column, label_column, keep_label=1\n",
    "):\n",
    "    df = pd.read_csv(file_path, sep=\"\\t\", error_bad_lines=False)\n",
    "    df = df.loc[df[label_column] == keep_label]\n",
    "    df = df.rename(\n",
    "        columns={input_text_column: \"sentence1\", target_text_column: \"sentence2\"}\n",
    "    )\n",
    "    df = df[[\"sentence1\", \"sentence2\"]]\n",
    "\n",
    "    return df\n",
    "\n",
    "\n",
    "def clean_unnecessary_spaces(out_string):\n",
    "    if not isinstance(out_string, str):\n",
    "        warnings.warn(f\">>> {out_string} <<< is not a string.\")\n",
    "        out_string = str(out_string)\n",
    "    out_string = (\n",
    "        out_string.replace(\" .\", \".\")\n",
    "        .replace(\" ?\", \"?\")\n",
    "        .replace(\" !\", \"!\")\n",
    "        .replace(\" ,\", \",\")\n",
    "        .replace(\" ' \", \"'\")\n",
    "        .replace(\" n't\", \"n't\")\n",
    "        .replace(\" 'm\", \"'m\")\n",
    "        .replace(\" 's\", \"'s\")\n",
    "        .replace(\" 've\", \"'ve\")\n",
    "        .replace(\" 're\", \"'re\")\n",
    "    )\n",
    "    return out_string"
   ]
  },
  {
   "cell_type": "code",
   "execution_count": 35,
   "metadata": {},
   "outputs": [],
   "source": [
    "from sklearn.model_selection import train_test_split\n",
    "\n",
    "df = load_data(\n",
    "    \"data/quora_duplicate_questions.tsv\", \"question1\", \"question2\", \"is_duplicate\"\n",
    ")\n",
    "q_train, q_test = train_test_split(df)\n",
    "\n",
    "q_train.to_csv(\"data/quora_train.tsv\", sep=\"\\t\")\n",
    "q_test.to_csv(\"data/quora_test.tsv\", sep=\"\\t\")"
   ]
  },
  {
   "cell_type": "code",
   "execution_count": 31,
   "metadata": {},
   "outputs": [
    {
     "data": {
      "text/html": [
       "<div>\n",
       "<style scoped>\n",
       "    .dataframe tbody tr th:only-of-type {\n",
       "        vertical-align: middle;\n",
       "    }\n",
       "\n",
       "    .dataframe tbody tr th {\n",
       "        vertical-align: top;\n",
       "    }\n",
       "\n",
       "    .dataframe thead th {\n",
       "        text-align: right;\n",
       "    }\n",
       "</style>\n",
       "<table border=\"1\" class=\"dataframe\">\n",
       "  <thead>\n",
       "    <tr style=\"text-align: right;\">\n",
       "      <th></th>\n",
       "      <th>sentence1</th>\n",
       "      <th>sentence2</th>\n",
       "    </tr>\n",
       "  </thead>\n",
       "  <tbody>\n",
       "    <tr>\n",
       "      <th>208006</th>\n",
       "      <td>What are the best books for IIT JAM math and w...</td>\n",
       "      <td>What are the best books for preparing for the ...</td>\n",
       "    </tr>\n",
       "    <tr>\n",
       "      <th>353720</th>\n",
       "      <td>How do I know if I'm pregnant?</td>\n",
       "      <td>How do you know I'd your pregnant?</td>\n",
       "    </tr>\n",
       "    <tr>\n",
       "      <th>221132</th>\n",
       "      <td>What are some crazy and hard riddles?</td>\n",
       "      <td>What are the crazy riddles you know?</td>\n",
       "    </tr>\n",
       "    <tr>\n",
       "      <th>360995</th>\n",
       "      <td>Do Nazis still exist?</td>\n",
       "      <td>Are there still Nazis?</td>\n",
       "    </tr>\n",
       "    <tr>\n",
       "      <th>374244</th>\n",
       "      <td>How do I survive in Phd?</td>\n",
       "      <td>How do I survive PhD?</td>\n",
       "    </tr>\n",
       "  </tbody>\n",
       "</table>\n",
       "</div>"
      ],
      "text/plain": [
       "                                                sentence1  \\\n",
       "208006  What are the best books for IIT JAM math and w...   \n",
       "353720                     How do I know if I'm pregnant?   \n",
       "221132              What are some crazy and hard riddles?   \n",
       "360995                              Do Nazis still exist?   \n",
       "374244                           How do I survive in Phd?   \n",
       "\n",
       "                                                sentence2  \n",
       "208006  What are the best books for preparing for the ...  \n",
       "353720                 How do you know I'd your pregnant?  \n",
       "221132               What are the crazy riddles you know?  \n",
       "360995                             Are there still Nazis?  \n",
       "374244                              How do I survive PhD?  "
      ]
     },
     "execution_count": 31,
     "metadata": {},
     "output_type": "execute_result"
    }
   ],
   "source": [
    "q_train.head()"
   ]
  },
  {
   "cell_type": "code",
   "execution_count": 20,
   "metadata": {},
   "outputs": [],
   "source": [
    "\n",
    "# The code block above only needs to be run once.\n",
    "# After that, the two lines below are sufficient to load the Quora dataset.\n",
    "\n",
    "# q_train = pd.read_csv(\"data/quora_train.tsv\", sep=\"\\t\")\n",
    "# q_test = pd.read_csv(\"data/quora_test.tsv\", sep=\"\\t\")\n",
    "\n",
    "q_train = q_train.dropna()\n",
    "q_test = q_test.dropna()\n",
    "\n",
    "q_train[\"sentence1\"] = q_train[\"sentence1\"].apply(clean_unnecessary_spaces)\n",
    "q_train[\"sentence1\"] = q_train[\"sentence1\"].apply(clean_unnecessary_spaces)\n",
    "\n",
    "q_test[\"sentence2\"] = q_test[\"sentence2\"].apply(clean_unnecessary_spaces)\n",
    "q_test[\"sentence2\"] = q_test[\"sentence2\"].apply(clean_unnecessary_spaces)"
   ]
  },
  {
   "cell_type": "code",
   "execution_count": 27,
   "metadata": {},
   "outputs": [],
   "source": [
    "import os\n",
    "os.getcwd()\n",
    "save_path = os.path.join(os.getcwd(), \"data\")\n",
    "\n",
    "q_train_save = os.path.join(save_path, \"q_train.csv\")\n",
    "q_test_save = os.path.join(save_path, \"q_test.csv\")"
   ]
  },
  {
   "cell_type": "code",
   "execution_count": 34,
   "metadata": {},
   "outputs": [],
   "source": [
    "q_train.to_csv(q_train_save, index=False)\n",
    "q_test.to_csv(q_test_save, index=False)"
   ]
  },
  {
   "cell_type": "code",
   "execution_count": 36,
   "metadata": {},
   "outputs": [],
   "source": [
    "small_q_train = q_train[:100]\n",
    "small_q_test = q_test[:100]"
   ]
  },
  {
   "cell_type": "code",
   "execution_count": 39,
   "metadata": {},
   "outputs": [],
   "source": [
    "small_q_train_save = os.path.join(save_path, \"small_q_train.csv\")\n",
    "small_q_test_save = os.path.join(save_path, \"small_q_test.csv\")"
   ]
  },
  {
   "cell_type": "code",
   "execution_count": 40,
   "metadata": {},
   "outputs": [],
   "source": [
    "small_q_train.to_csv(small_q_train_save)\n",
    "small_q_test.to_csv(small_q_test_save)"
   ]
  }
 ],
 "metadata": {
  "kernelspec": {
   "display_name": "Python 3",
   "language": "python",
   "name": "python3"
  },
  "language_info": {
   "codemirror_mode": {
    "name": "ipython",
    "version": 3
   },
   "file_extension": ".py",
   "mimetype": "text/x-python",
   "name": "python",
   "nbconvert_exporter": "python",
   "pygments_lexer": "ipython3",
   "version": "3.7.7"
  }
 },
 "nbformat": 4,
 "nbformat_minor": 4
}
